{
 "cells": [
  {
   "cell_type": "markdown",
   "id": "3dc5f166-28ab-4aca-ac37-4ef55032cd58",
   "metadata": {},
   "source": [
    "Project: based on failure and right censored data, calculate the weibull parameters of the failure/censored data of brazed plate heat exchangers\n"
   ]
  },
  {
   "cell_type": "code",
   "execution_count": 1,
   "id": "bdd17cb6-8165-46ad-b62e-ca999e287516",
   "metadata": {},
   "outputs": [],
   "source": [
    "import numpy as np\n",
    "import pandas as pd\n",
    "from scipy.stats import weibull_min\n",
    "from scipy.optimize import minimize"
   ]
  },
  {
   "cell_type": "code",
   "execution_count": 2,
   "id": "498f9d50-349a-42f0-8033-11e833121356",
   "metadata": {},
   "outputs": [],
   "source": [
    "df = pd.read_csv('failrure_data.csv')"
   ]
  },
  {
   "cell_type": "code",
   "execution_count": 3,
   "id": "25951113-0643-4ed4-b0ad-8645c2d0b428",
   "metadata": {},
   "outputs": [
    {
     "data": {
      "text/html": [
       "<div>\n",
       "<style scoped>\n",
       "    .dataframe tbody tr th:only-of-type {\n",
       "        vertical-align: middle;\n",
       "    }\n",
       "\n",
       "    .dataframe tbody tr th {\n",
       "        vertical-align: top;\n",
       "    }\n",
       "\n",
       "    .dataframe thead th {\n",
       "        text-align: right;\n",
       "    }\n",
       "</style>\n",
       "<table border=\"1\" class=\"dataframe\">\n",
       "  <thead>\n",
       "    <tr style=\"text-align: right;\">\n",
       "      <th></th>\n",
       "      <th>Time</th>\n",
       "      <th>Status</th>\n",
       "    </tr>\n",
       "  </thead>\n",
       "  <tbody>\n",
       "    <tr>\n",
       "      <th>0</th>\n",
       "      <td>4.16</td>\n",
       "      <td>failed</td>\n",
       "    </tr>\n",
       "    <tr>\n",
       "      <th>1</th>\n",
       "      <td>3.36</td>\n",
       "      <td>failed</td>\n",
       "    </tr>\n",
       "    <tr>\n",
       "      <th>2</th>\n",
       "      <td>2.95</td>\n",
       "      <td>failed</td>\n",
       "    </tr>\n",
       "    <tr>\n",
       "      <th>3</th>\n",
       "      <td>0.31</td>\n",
       "      <td>Censored</td>\n",
       "    </tr>\n",
       "    <tr>\n",
       "      <th>4</th>\n",
       "      <td>3.66</td>\n",
       "      <td>Censored</td>\n",
       "    </tr>\n",
       "  </tbody>\n",
       "</table>\n",
       "</div>"
      ],
      "text/plain": [
       "   Time    Status\n",
       "0  4.16    failed\n",
       "1  3.36    failed\n",
       "2  2.95    failed\n",
       "3  0.31  Censored\n",
       "4  3.66  Censored"
      ]
     },
     "execution_count": 3,
     "metadata": {},
     "output_type": "execute_result"
    }
   ],
   "source": [
    "df.head()"
   ]
  },
  {
   "cell_type": "code",
   "execution_count": 4,
   "id": "817495ee-941b-4a21-a417-4b1345c2cad3",
   "metadata": {},
   "outputs": [],
   "source": [
    "failure = df[df['Status']=='failed']"
   ]
  },
  {
   "cell_type": "code",
   "execution_count": 5,
   "id": "f77d5260-1547-45c4-a4fb-8ab2d033e1bc",
   "metadata": {},
   "outputs": [
    {
     "data": {
      "text/html": [
       "<div>\n",
       "<style scoped>\n",
       "    .dataframe tbody tr th:only-of-type {\n",
       "        vertical-align: middle;\n",
       "    }\n",
       "\n",
       "    .dataframe tbody tr th {\n",
       "        vertical-align: top;\n",
       "    }\n",
       "\n",
       "    .dataframe thead th {\n",
       "        text-align: right;\n",
       "    }\n",
       "</style>\n",
       "<table border=\"1\" class=\"dataframe\">\n",
       "  <thead>\n",
       "    <tr style=\"text-align: right;\">\n",
       "      <th></th>\n",
       "      <th>Time</th>\n",
       "      <th>Status</th>\n",
       "    </tr>\n",
       "  </thead>\n",
       "  <tbody>\n",
       "    <tr>\n",
       "      <th>0</th>\n",
       "      <td>4.16</td>\n",
       "      <td>failed</td>\n",
       "    </tr>\n",
       "    <tr>\n",
       "      <th>1</th>\n",
       "      <td>3.36</td>\n",
       "      <td>failed</td>\n",
       "    </tr>\n",
       "    <tr>\n",
       "      <th>2</th>\n",
       "      <td>2.95</td>\n",
       "      <td>failed</td>\n",
       "    </tr>\n",
       "  </tbody>\n",
       "</table>\n",
       "</div>"
      ],
      "text/plain": [
       "   Time  Status\n",
       "0  4.16  failed\n",
       "1  3.36  failed\n",
       "2  2.95  failed"
      ]
     },
     "execution_count": 5,
     "metadata": {},
     "output_type": "execute_result"
    }
   ],
   "source": [
    "failure.head(10)"
   ]
  },
  {
   "cell_type": "code",
   "execution_count": 6,
   "id": "3df793a1-ed94-49eb-a1dd-baa5ac1cdc15",
   "metadata": {},
   "outputs": [],
   "source": [
    "censored = df[df['Status']=='Censored']"
   ]
  },
  {
   "cell_type": "code",
   "execution_count": 7,
   "id": "9732b65d-c9e8-453d-8246-ca0f34b2cdfc",
   "metadata": {},
   "outputs": [
    {
     "data": {
      "text/html": [
       "<div>\n",
       "<style scoped>\n",
       "    .dataframe tbody tr th:only-of-type {\n",
       "        vertical-align: middle;\n",
       "    }\n",
       "\n",
       "    .dataframe tbody tr th {\n",
       "        vertical-align: top;\n",
       "    }\n",
       "\n",
       "    .dataframe thead th {\n",
       "        text-align: right;\n",
       "    }\n",
       "</style>\n",
       "<table border=\"1\" class=\"dataframe\">\n",
       "  <thead>\n",
       "    <tr style=\"text-align: right;\">\n",
       "      <th></th>\n",
       "      <th>Time</th>\n",
       "      <th>Status</th>\n",
       "    </tr>\n",
       "  </thead>\n",
       "  <tbody>\n",
       "    <tr>\n",
       "      <th>3</th>\n",
       "      <td>0.31</td>\n",
       "      <td>Censored</td>\n",
       "    </tr>\n",
       "    <tr>\n",
       "      <th>4</th>\n",
       "      <td>3.66</td>\n",
       "      <td>Censored</td>\n",
       "    </tr>\n",
       "    <tr>\n",
       "      <th>5</th>\n",
       "      <td>3.66</td>\n",
       "      <td>Censored</td>\n",
       "    </tr>\n",
       "    <tr>\n",
       "      <th>6</th>\n",
       "      <td>2.40</td>\n",
       "      <td>Censored</td>\n",
       "    </tr>\n",
       "    <tr>\n",
       "      <th>7</th>\n",
       "      <td>6.13</td>\n",
       "      <td>Censored</td>\n",
       "    </tr>\n",
       "    <tr>\n",
       "      <th>8</th>\n",
       "      <td>6.13</td>\n",
       "      <td>Censored</td>\n",
       "    </tr>\n",
       "  </tbody>\n",
       "</table>\n",
       "</div>"
      ],
      "text/plain": [
       "   Time    Status\n",
       "3  0.31  Censored\n",
       "4  3.66  Censored\n",
       "5  3.66  Censored\n",
       "6  2.40  Censored\n",
       "7  6.13  Censored\n",
       "8  6.13  Censored"
      ]
     },
     "execution_count": 7,
     "metadata": {},
     "output_type": "execute_result"
    }
   ],
   "source": [
    "censored.head(10)"
   ]
  },
  {
   "cell_type": "code",
   "execution_count": 8,
   "id": "05bc62bd-a901-48b0-badf-e11e89f4f78b",
   "metadata": {},
   "outputs": [],
   "source": [
    "fail_time = failure['Time'].values"
   ]
  },
  {
   "cell_type": "code",
   "execution_count": 9,
   "id": "f177156b-6fab-49af-98e3-0de25fd7fadd",
   "metadata": {},
   "outputs": [
    {
     "data": {
      "text/plain": [
       "array([4.16, 3.36, 2.95])"
      ]
     },
     "execution_count": 9,
     "metadata": {},
     "output_type": "execute_result"
    }
   ],
   "source": [
    "fail_time"
   ]
  },
  {
   "cell_type": "code",
   "execution_count": 10,
   "id": "0c6b8620-719d-4858-8585-6501c85395da",
   "metadata": {},
   "outputs": [],
   "source": [
    "censored_time = censored['Time'].values"
   ]
  },
  {
   "cell_type": "code",
   "execution_count": 11,
   "id": "567fafe8-5ef3-4398-a0ab-66b09ab4d8d4",
   "metadata": {},
   "outputs": [
    {
     "data": {
      "text/plain": [
       "array([0.31, 3.66, 3.66, 2.4 , 6.13, 6.13])"
      ]
     },
     "execution_count": 11,
     "metadata": {},
     "output_type": "execute_result"
    }
   ],
   "source": [
    "censored_time"
   ]
  },
  {
   "cell_type": "code",
   "execution_count": 12,
   "id": "45c062d0-f7fe-4560-af28-8dc01d32c3ee",
   "metadata": {},
   "outputs": [],
   "source": [
    "def negative_log_likelihood(params):\n",
    "    shape, scale = params\n",
    "    \n",
    "    # Calculate the log-likelihood for the failure times\n",
    "    loglik_failure = np.sum(weibull_min.logpdf(fail_time, shape, scale=scale))\n",
    "    \n",
    "    # Calculate the log-likelihood for the right censored times\n",
    "    loglik_right_censored = np.sum(weibull_min.logsf(censored_time, shape, scale=scale))\n",
    "    \n",
    "    # Add together to get total log-likelihood\n",
    "    total_loglik = loglik_failure + loglik_right_censored\n",
    "    \n",
    "    # Return negative for minimization\n",
    "    return -total_loglik"
   ]
  },
  {
   "cell_type": "code",
   "execution_count": 13,
   "id": "c813e566-47b6-4053-8f69-0e86444808d7",
   "metadata": {},
   "outputs": [
    {
     "name": "stdout",
     "output_type": "stream",
     "text": [
      "Optimal shape parameter: 2.7360148295580604\n",
      "Optimal scale parameter: 6.304426520301275\n"
     ]
    }
   ],
   "source": [
    "init_params = [1, 1]\n",
    "\n",
    "# Minimize the negative log-likelihood\n",
    "res = minimize(negative_log_likelihood, init_params, method='nelder-mead')\n",
    "\n",
    "# The optimal parameters are in res.x\n",
    "shape_opt, scale_opt = res.x\n",
    "print(f'Optimal shape parameter: {shape_opt}')\n",
    "print(f'Optimal scale parameter: {scale_opt}')"
   ]
  },
  {
   "cell_type": "code",
   "execution_count": 14,
   "id": "53637182-46d6-45d3-b449-489e62b8981d",
   "metadata": {},
   "outputs": [],
   "source": [
    "shape = shape_opt\n",
    "scale= scale_opt"
   ]
  },
  {
   "cell_type": "code",
   "execution_count": 15,
   "id": "425b194e-7f5d-448b-bc1d-a5e05c2e0770",
   "metadata": {},
   "outputs": [
    {
     "data": {
      "text/plain": [
       "2.7360148295580604"
      ]
     },
     "execution_count": 15,
     "metadata": {},
     "output_type": "execute_result"
    }
   ],
   "source": [
    "shape"
   ]
  },
  {
   "cell_type": "code",
   "execution_count": 16,
   "id": "7ad129c9-f468-4047-be15-096359d17cfa",
   "metadata": {},
   "outputs": [
    {
     "data": {
      "text/plain": [
       "6.304426520301275"
      ]
     },
     "execution_count": 16,
     "metadata": {},
     "output_type": "execute_result"
    }
   ],
   "source": [
    "scale"
   ]
  },
  {
   "cell_type": "code",
   "execution_count": null,
   "id": "fbeb056b-9369-4eb0-8cdc-1af591a0a051",
   "metadata": {},
   "outputs": [],
   "source": []
  }
 ],
 "metadata": {
  "kernelspec": {
   "display_name": "anaconda-panel-2023.05-py310",
   "language": "python",
   "name": "conda-env-anaconda-panel-2023.05-py310-py"
  },
  "language_info": {
   "codemirror_mode": {
    "name": "ipython",
    "version": 3
   },
   "file_extension": ".py",
   "mimetype": "text/x-python",
   "name": "python",
   "nbconvert_exporter": "python",
   "pygments_lexer": "ipython3",
   "version": "3.11.4"
  }
 },
 "nbformat": 4,
 "nbformat_minor": 5
}
